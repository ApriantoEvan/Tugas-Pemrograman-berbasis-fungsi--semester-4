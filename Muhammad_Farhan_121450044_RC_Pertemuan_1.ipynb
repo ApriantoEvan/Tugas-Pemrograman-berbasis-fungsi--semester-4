{
  "nbformat": 4,
  "nbformat_minor": 0,
  "metadata": {
    "colab": {
      "provenance": []
    },
    "kernelspec": {
      "name": "python3",
      "display_name": "Python 3"
    },
    "language_info": {
      "name": "python"
    }
  },
  "cells": [
    {
      "cell_type": "code",
      "source": [
        "from functools import reduce"
      ],
      "metadata": {
        "id": "seHlBW6PAqnv"
      },
      "execution_count": 1,
      "outputs": []
    },
    {
      "cell_type": "code",
      "source": [
        "def enkripsi(password):\n",
        "    nilai_ascii = (ord(i) for i in password)\n",
        "    value_ascii= [(chr(value//26+80),chr(value%26+80),'+' if value//26>value%26 else '-' ) for value in nilai_ascii]\n",
        "    hasil_enkripsi = reduce(lambda acc, nil: acc+nil[0]+nil[1]+nil[2], value_ascii, '')\n",
        "    return hasil_enkripsi\n",
        "\n",
        "password=input(\"Masukkan password yang ingin di enkripsi: \").strip()[:100]\n",
        "hasil_enkripsi=enkripsi(password)\n",
        "print(\"hasil enkripsi:\",hasil_enkripsi)"
      ],
      "metadata": {
        "colab": {
          "base_uri": "https://localhost:8080/"
        },
        "id": "pa_3vshlApid",
        "outputId": "a869e044-5bad-4bc6-f2b0-e8250ca8d960"
      },
      "execution_count": 2,
      "outputs": [
        {
          "output_type": "stream",
          "name": "stdout",
          "text": [
            "Masukkan password yang ingin di enkripsi: anakanakcerdassainsdata\n",
            "hasil enkripsi: Sc-TV-Sc-TS+Sc-TV-Sc-TS+Se-Sg-TZ-Sf-Sc-T[-T[-Sc-TQ+TV-T[-Sf-Sc-T\\-Sc-\n"
          ]
        }
      ]
    }
  ]
}