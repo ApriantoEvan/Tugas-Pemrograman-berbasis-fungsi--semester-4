{
  "nbformat": 4,
  "nbformat_minor": 0,
  "metadata": {
    "colab": {
      "provenance": []
    },
    "kernelspec": {
      "name": "python3",
      "display_name": "Python 3"
    },
    "language_info": {
      "name": "python"
    }
  },
  "cells": [
    {
      "cell_type": "code",
      "source": [
        "from functools import reduce"
      ],
      "metadata": {
        "id": "seHlBW6PAqnv"
      },
      "execution_count": null,
      "outputs": []
    },
    {
      "cell_type": "code",
      "source": [
        "def enkripsi(password):\n",
        "    nilai_ascii = (ord(i) for i in password)\n",
        "    value_ascii= [(chr(value//26+80),chr(value%26+80),'+' if value//26>value%26 else '-' ) for value in nilai_ascii]\n",
        "    hasil_enkripsi = reduce(lambda acc, nil: acc+nil[0]+nil[1]+nil[2], value_ascii, '')\n",
        "    return hasil_enkripsi\n",
        "\n",
        "password=input(\"Masukkan password yang ingin di enkripsi: \").strip()[:100]\n",
        "hasil_enkripsi=enkripsi(password)\n",
        "print(\"hasil enkripsi:\",hasil_enkripsi)"
      ],
      "metadata": {
        "colab": {
          "base_uri": "https://localhost:8080/"
        },
        "id": "pa_3vshlApid",
        "outputId": "36651171-5298-42da-9f79-608446b6ceec"
      },
      "execution_count": null,
      "outputs": [
        {
          "output_type": "stream",
          "name": "stdout",
          "text": [
            "Masukkan password yang ingin di enkripsi: asw\n",
            "hasil enkripsi: Sc-T[-T_-\n"
          ]
        }
      ]
    }
  ]
}